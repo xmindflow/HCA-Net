{
 "cells": [
  {
   "cell_type": "code",
   "execution_count": 1,
   "metadata": {},
   "outputs": [],
   "source": [
    "# !. ../../pytorch-pose/venv/bin/activate\n",
    "# !pip install progress"
   ]
  },
  {
   "cell_type": "code",
   "execution_count": 2,
   "metadata": {},
   "outputs": [],
   "source": [
    "from __future__ import print_function, absolute_import\n",
    "import os\n",
    "import argparse\n",
    "import time\n",
    "os.environ[\"CUDA_VISIBLE_DEVICES\"] = \"0\"\n",
    "import torch\n",
    "import torch.nn.parallel\n",
    "import torch.backends.cudnn as cudnn\n",
    "import torch.optim\n",
    "import torchvision.datasets as datasets\n",
    "import numpy as np\n",
    "import _init_paths\n",
    "from progress.bar import Bar\n",
    "import pickle\n",
    "from pose_code.hourglass import hg\n",
    "from pose_code.atthourglass import atthg\n",
    "from pose_code import JointsMSELoss\n",
    "from pose_code.utils import *\n",
    "from train_utils import *\n",
    "from torch.utils.data import DataLoader \n",
    "import copy\n",
    "import cv2\n",
    "from matplotlib import pyplot as plt\n",
    "%matplotlib inline"
   ]
  },
  {
   "cell_type": "code",
   "execution_count": 4,
   "metadata": {},
   "outputs": [],
   "source": [
    "## Load the prepared dataset\n",
    "with open('../prepared_data/prepared_trainset_t1', 'rb') as file_pi:\n",
    "     full = pickle.load(file_pi)\n",
    "full[0] = full[0][:, :, :, :, 0]    \n",
    "\n",
    "## Create a dataset loader\n",
    "full_dataset_train = image_Dataset(image_paths=full[0], target_paths=full[1], use_flip = False)\n",
    "MRI_train_loader = DataLoader(full_dataset_train, batch_size= 1, shuffle=False, num_workers=0)"
   ]
  },
  {
   "cell_type": "code",
   "execution_count": 5,
   "metadata": {},
   "outputs": [
    {
     "name": "stdout",
     "output_type": "stream",
     "text": [
      "13\n",
      "14\n",
      "14\n",
      "13\n",
      "14\n",
      "14\n",
      "13\n"
     ]
    }
   ],
   "source": [
    "All_skeletons = np.zeros((len(MRI_train_loader), 11, 2))\n",
    "Joint_counter = np.zeros((11, 1))\n",
    "for i, (input, target, vis) in enumerate(MRI_train_loader):\n",
    "    #input  = input.numpy()\n",
    "    #input = np.transpose(input, (0,2,3, 1))\n",
    "    target = target.numpy()\n",
    "    mask = np.zeros((target.shape[2], target.shape[3]))\n",
    "    for idc in range(target.shape[1]):\n",
    "        mask += target[0, idc]\n",
    "    mask = np.uint8(np.where(mask>0, 1, 0))\n",
    "    mask = np.rot90(mask)\n",
    "    #cv2.imwrite('visualize/skeleton/1.png', mask*255)     \n",
    "    #cv2.imwrite('visualize/skeleton/img.png', np.rot90(input[0]*255))\n",
    "    num_labels, labels_im, states, centers = cv2.connectedComponentsWithStats(mask)\n",
    "    centers = [t[::-1] for t in centers]\n",
    "    skelet = np.zeros((11, 2))\n",
    "    skelet[0:len(centers)-1] = centers[1:]\n",
    "    Normjoint = np.linalg.norm(skelet[0]-skelet[4])\n",
    "    #Normjoint = np.linalg.norm(skelet[0]-skelet[2])\n",
    "#     print(skelet)\n",
    "    for idx in range(1, len(centers)-1):\n",
    "        skelet[idx] = (skelet[idx] - skelet[0]) / Normjoint\n",
    "\n",
    "    skelet[0] *= 0\n",
    "    \n",
    "    All_skeletons[i] = skelet\n",
    "    Joint_counter[0:len(centers)-1] += 1"
   ]
  },
  {
   "cell_type": "code",
   "execution_count": 6,
   "metadata": {},
   "outputs": [],
   "source": [
    "Skelet = np.sum(All_skeletons, axis= 0)   \n",
    "Skelet /= Joint_counter\n",
    "    \n",
    "# Skelet += 100"
   ]
  },
  {
   "cell_type": "code",
   "execution_count": 7,
   "metadata": {},
   "outputs": [
    {
     "name": "stdout",
     "output_type": "stream",
     "text": [
      "(11, 2)\n",
      "(212, 11, 2)\n"
     ]
    }
   ],
   "source": [
    "print(Skelet.shape)\n",
    "print(All_skeletons.shape)\n",
    "# plt.scatter(skelet[0])"
   ]
  },
  {
   "cell_type": "code",
   "execution_count": 12,
   "metadata": {},
   "outputs": [
    {
     "data": {
      "image/png": "[encoded data removed]",
      "text/plain": [
       "<Figure size 648x648 with 1 Axes>"
      ]
     },
     "metadata": {
      "needs_background": "light"
     },
     "output_type": "display_data"
    }
   ],
   "source": [
    "plt.figure(figsize=(9, 9))\n",
    "\n",
    "colors = np.random.rand(11, 3)\n",
    "\n",
    "for j in range(11):\n",
    "    plt.scatter(All_skeletons[:, j, 1], -All_skeletons[:, j, 0], color=colors[j])\n",
    "    plt.scatter([Skelet[j, 1]], [-Skelet[j, 0]], marker='^', color=colors[j], s=300, edgecolors='k')\n",
    "# plt.scatter(Skelet[j, :], 'go')\n",
    "\n",
    "# plt.axis('equal', 'box')\n",
    "plt.axis('off')\n",
    "plt.xlim(-2.5, 2.5)\n",
    "plt.ylim(-4, 1)\n",
    "plt.show()"
   ]
  },
  {
   "cell_type": "code",
   "execution_count": null,
   "metadata": {},
   "outputs": [],
   "source": [
    "np.save('../prepared_dataset/T1_Skelet.npy', Skelet)"
   ]
  },
  {
   "cell_type": "code",
   "execution_count": null,
   "metadata": {},
   "outputs": [],
   "source": []
  }
 ],
 "metadata": {
  "kernelspec": {
   "display_name": "Python 3",
   "language": "python",
   "name": "python3"
  },
  "language_info": {
   "codemirror_mode": {
    "name": "ipython",
    "version": 3
   },
   "file_extension": ".py",
   "mimetype": "text/x-python",
   "name": "python",
   "nbconvert_exporter": "python",
   "pygments_lexer": "ipython3",
   "version": "3.6.9"
  }
 },
 "nbformat": 4,
 "nbformat_minor": 5
}
